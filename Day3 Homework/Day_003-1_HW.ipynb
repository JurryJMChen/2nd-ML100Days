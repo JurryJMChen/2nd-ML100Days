{
 "cells": [
  {
   "cell_type": "markdown",
   "metadata": {},
   "source": [
    "## 練習時間\n",
    "在小量的資料上，我們用眼睛就可以看得出來程式碼是否有跑出我們理想中的結果\n",
    "\n",
    "請嘗試想像一個你需要的資料結構 (裡面的值可以是隨機的)，然後用上述的方法把它變成 pandas DataFrame\n",
    "\n",
    "#### Ex: 想像一個 dataframe 有兩個欄位，一個是國家，一個是人口，求人口數最多的國家\n",
    "\n",
    "### Hints: [隨機產生數值](https://blog.csdn.net/christianashannon/article/details/78867204)"
   ]
  },
  {
   "cell_type": "code",
   "execution_count": 4,
   "metadata": {},
   "outputs": [],
   "source": [
    "import random\n",
    "import pandas as pd\n",
    "import numpy as np"
   ]
  },
  {
   "cell_type": "code",
   "execution_count": 17,
   "metadata": {},
   "outputs": [
    {
     "name": "stdout",
     "output_type": "stream",
     "text": [
      "    Name  English  Chinese  Math\n",
      "0   John       77       91    60\n",
      "1   Mary       92       80    63\n",
      "2  Peter       98       63    60\n"
     ]
    }
   ],
   "source": [
    "rawData = {'Name': ['John', 'Mary', 'Peter'] ,\n",
    "           'English': [random.randint(50,100) for _ in range(3)],\n",
    "           'Chinese': [random.randint(50,100) for _ in range(3)],\n",
    "           'Math': [random.randint(50,100) for _ in range(3)]}\n",
    "\n",
    "getDF = pd.DataFrame(rawData)\n",
    "\n",
    "print(getDF)"
   ]
  },
  {
   "cell_type": "code",
   "execution_count": 21,
   "metadata": {},
   "outputs": [
    {
     "name": "stdout",
     "output_type": "stream",
     "text": [
      "   Name  English  Chinese  Math\n",
      "1  Mary       92       80    63\n"
     ]
    }
   ],
   "source": [
    "print(getDF[getDF['Math']==getDF['Math'].max()])"
   ]
  },
  {
   "cell_type": "code",
   "execution_count": 22,
   "metadata": {},
   "outputs": [
    {
     "name": "stdout",
     "output_type": "stream",
     "text": [
      "   Name  English  Chinese  Math\n",
      "0  John       77       91    60\n"
     ]
    }
   ],
   "source": [
    "print(getDF[getDF['English']==getDF['English'].min()])"
   ]
  },
  {
   "cell_type": "code",
   "execution_count": 26,
   "metadata": {},
   "outputs": [
    {
     "name": "stdout",
     "output_type": "stream",
     "text": [
      "   Name  English  Chinese  Math\n",
      "1  Mary       92       80    63\n"
     ]
    }
   ],
   "source": [
    "print(getDF[getDF['Chinese']==getDF['Chinese'].median()])"
   ]
  }
 ],
 "metadata": {
  "kernelspec": {
   "display_name": "MLGameVM",
   "language": "python",
   "name": "mlgamevm"
  },
  "language_info": {
   "codemirror_mode": {
    "name": "ipython",
    "version": 3
   },
   "file_extension": ".py",
   "mimetype": "text/x-python",
   "name": "python",
   "nbconvert_exporter": "python",
   "pygments_lexer": "ipython3",
   "version": "3.7.0"
  }
 },
 "nbformat": 4,
 "nbformat_minor": 2
}
